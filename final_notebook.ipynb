{
 "cells": [
  {
   "cell_type": "code",
   "execution_count": 1,
   "metadata": {},
   "outputs": [
    {
     "name": "stderr",
     "output_type": "stream",
     "text": [
      "Some weights of the PyTorch model were not used when initializing the TF 2.0 model TFBertModel: ['cls.predictions.bias', 'cls.predictions.transform.LayerNorm.bias', 'cls.predictions.transform.LayerNorm.weight', 'cls.predictions.transform.dense.bias', 'cls.predictions.transform.dense.weight', 'cls.seq_relationship.weight', 'cls.seq_relationship.bias']\n",
      "- This IS expected if you are initializing TFBertModel from a PyTorch model trained on another task or with another architecture (e.g. initializing a TFBertForSequenceClassification model from a BertForPreTraining model).\n",
      "- This IS NOT expected if you are initializing TFBertModel from a PyTorch model that you expect to be exactly identical (e.g. initializing a TFBertForSequenceClassification model from a BertForSequenceClassification model).\n",
      "All the weights of TFBertModel were initialized from the PyTorch model.\n",
      "If your task is similar to the task the model of the checkpoint was trained on, you can already use TFBertModel for predictions without further training.\n"
     ]
    }
   ],
   "source": [
    "import tensorflow as tf\n",
    "import numpy as np\n",
    "from helpers import pre_process_input_data, convert_tweets_to_bert_embedding, generate_transfer_learn_classifier,generate_fine_tune_model,pre_process_bert_inputs,plot_history #See end of notebook for implementation of these functions\n",
    "import matplotlib.pyplot as plt\n",
    "from sklearn.model_selection import train_test_split\n",
    "import re\n",
    "from tensorflow.keras.layers import MultiHeadAttention, LayerNormalization\n",
    "from tensorflow.keras.layers import Layer"
   ]
  },
  {
   "cell_type": "markdown",
   "metadata": {},
   "source": [
    "# Further Investigation into sentiment Anaylsis with Fine Tuning Bert and Custom Embeddings\n",
    "##### Team: Alex Shockley, Will Landin, Rick Lattin Repo: https://github.com/lattiric/ML_NN_Proj_02"
   ]
  },
  {
   "cell_type": "markdown",
   "metadata": {},
   "source": [
    "[2.0 points] Give an overview of the dataset you have chosen to use.\n",
    "\n",
    "What is the classification task. Is this multi-task? Explain.\n",
    "What is the feature data? Who collected the data? Why? When? Is the data multi-modal?\n",
    "What evaluation criteria will you be using and why? "
   ]
  },
  {
   "cell_type": "markdown",
   "metadata": {},
   "source": [
    "### Dataset Overview\n",
    "We are using the Sentiment 140 Tweets dataset that was collected and shown on Kaggle. The dataset was organized on Kaggle by Levi Klein and it has sentiment scores as either positive or negative that was curated from Twitter. https://www.kaggle.com/datasets/kazanova/sentiment140/discussion/454347. Of the 1.6 million tweets we decided to scope it down to around 150,000 examples of each positive and negative, making it 300,000 tweets total. Levi Klein on kaggle described the theoretical accuracy of the dataset itself at around 80%. This is an excerpt from the him that we will discuss down below in our evalutation:\n",
    "\n",
    ">\" Any classifier we use will be trained as a binary classifier, and will be unable to classify data points as having a neutral sentiment, so we can conclude that a \"perfect\" classifier will essentially be randomly guessing the sentiment of neutral tweets that >have been mislabeled as either positive or negative. Therefore, even a \"perfect\" classifier will only correctly \"guess\" the classification of about 50% of the mislabeled tweets on average. As a result, we can conclude that the maximum attainable accuracy of a >binary classifier on this dataset will be about 60% + 10% + 10% = 80%. Of course, it is good to remember that we estimated the distribution of our mislabeled tweets from a sample, so our true maximum attainable accuracy might not be exactly 80%. Suffice to >say, the maximum attainable accuracy using this dataset will be approximately 80%\"\n",
    "\n",
    "The classification is not a multi task nor is the data multi modal. We are given 300,000 tweets as text and 300,000 binary labels (either 0 or 1) as integers. The task for the model is simply a binary classifier for sentiment, either the tweet is positive or negative, we utilize a sigmoid on our outputs as to map the values between 0 and 1, but it is important to note that this allows for our model to output continous values (ie. 0.5) for the text. The evaluation criteria that we will be looking at is accuracy because we have a perfectly balanced dataset (as all things should be) and we care about classifying each of the classes equally, True positives and True negatives are more important to us that false negatives and false positives. The reason that we believe that the false positives and false negatives are not of much concern is because of the nature of the task being sentiment analysis and we assume that no critical decisions will be made off of our model's predictions. Due to Levi Klein's analysis on the dataset, we are aiming for around, or better than, 80% validation accuracy."
   ]
  },
  {
   "cell_type": "markdown",
   "metadata": {},
   "source": [
    "[2.0 points] Describe the foundational model that you will be using to transfer learn from. What tasks was this foundational model trained upon? Explain if the new task is within the same domain, across domains, etc"
   ]
  },
  {
   "cell_type": "markdown",
   "metadata": {},
   "source": [
    "The foundational model that we used to transfer learn from is Google’s famous language model BERT. BERT stands for Bidirectional Encoder Representation from Transformers and it was developed in 2018 for the purpose of tackling numerous common NLP tasks. It consists of 12 encoder layers, each containing 12 attention heads per layer. One of which was sentiment analysis, and we decided to implement BERT for this exact reason. Our task is to perform sentiment analysis on a data set of tweets that have been labeled as positive or negative, and since BERT has consistently performed exceedingly well at sentiment analysis tasks, it made sense to use it. Although it excels at sentiment analysis, it was pre trained on the tasks of masked language modeling (MLM) and next sentence prediction (NSP) using the bidirectionality that earned BERT its namesake. These tasks are very similar to sentiment analysis in that the context of the text, and not just the individual words are needed to complete the tasks. Therefore it is extremely applicable from the original training tasks. BERT was pretrained on BookCorpus which consists of 11,038 unpublished books and English Wikipedia, as well as 4 TPUs and one million steps with a batch size of 256. Adam was the optimizer and the learning rate was 1e-4 with 10,000 learning rate warm up steps and a linear decay of learning rate after that. (Also we had experience using it for the last lab and it performed extremely well so we wanted to reuse it(and the code we already had written 😏))\n",
    "\n",
    "Sources used:\n",
    "- https://huggingface.co/google-bert/bert-base-uncased\n",
    "- https://huggingface.co/blog/bert-101\n",
    "- https://www.techtarget.com/searchenterpriseai/definition/BERT-language-model#:~:text=Google%20developed%20BERT%20to%20serve,models%20are%20made%20to%20do."
   ]
  },
  {
   "cell_type": "markdown",
   "metadata": {},
   "source": [
    "[1.0 points] Split the data into training and testing. Be sure to explain how you performed this operation and why you think it is reasonable to split this particular dataset this way. For multi-task datasets, be sure to explain if it is appropriate to stratify within each task. If the dataset is already split for you, explain how the split was achieved and how it is stratified."
   ]
  },
  {
   "cell_type": "markdown",
   "metadata": {},
   "source": [
    "For creating the train test split, we split the data in an 80/20 split, as we are doing a generic classification task with 500,000 data entries. We made sure to stratify the data correctly, evenly distributing the positive and negative tweets evenly between all train and test groups. The distribution only needed to be 50% positive and 50% negative as the data only classified each tweet as positive or negative, and had no neutral distinction. `sklearn`'s `train_test_split` function was perfect for this use case and required the least amout of overhead on our end so that is the method we ended up using."
   ]
  },
  {
   "cell_type": "code",
   "execution_count": 2,
   "metadata": {},
   "outputs": [
    {
     "data": {
      "text/html": [
       "<div>\n",
       "<style scoped>\n",
       "    .dataframe tbody tr th:only-of-type {\n",
       "        vertical-align: middle;\n",
       "    }\n",
       "\n",
       "    .dataframe tbody tr th {\n",
       "        vertical-align: top;\n",
       "    }\n",
       "\n",
       "    .dataframe thead th {\n",
       "        text-align: right;\n",
       "    }\n",
       "</style>\n",
       "<table border=\"1\" class=\"dataframe\">\n",
       "  <thead>\n",
       "    <tr style=\"text-align: right;\">\n",
       "      <th></th>\n",
       "      <th>target</th>\n",
       "      <th>text</th>\n",
       "    </tr>\n",
       "  </thead>\n",
       "  <tbody>\n",
       "    <tr>\n",
       "      <th>574913</th>\n",
       "      <td>0</td>\n",
       "      <td>@peterfacinelli i'm trying really hard to win ...</td>\n",
       "    </tr>\n",
       "    <tr>\n",
       "      <th>262269</th>\n",
       "      <td>0</td>\n",
       "      <td>damn im missing all of this  but i taped it.</td>\n",
       "    </tr>\n",
       "    <tr>\n",
       "      <th>3878</th>\n",
       "      <td>0</td>\n",
       "      <td>Did not sleep well at all, and have a very unh...</td>\n",
       "    </tr>\n",
       "    <tr>\n",
       "      <th>736702</th>\n",
       "      <td>0</td>\n",
       "      <td>Day of unpacking</td>\n",
       "    </tr>\n",
       "    <tr>\n",
       "      <th>308513</th>\n",
       "      <td>0</td>\n",
       "      <td>i wanna talk wit sum1</td>\n",
       "    </tr>\n",
       "  </tbody>\n",
       "</table>\n",
       "</div>"
      ],
      "text/plain": [
       "        target                                               text\n",
       "574913       0  @peterfacinelli i'm trying really hard to win ...\n",
       "262269       0       damn im missing all of this  but i taped it.\n",
       "3878         0  Did not sleep well at all, and have a very unh...\n",
       "736702       0                                  Day of unpacking \n",
       "308513       0                             i wanna talk wit sum1 "
      ]
     },
     "execution_count": 2,
     "metadata": {},
     "output_type": "execute_result"
    }
   ],
   "source": [
    "TWEET_FILEPATH = '/mnt/c/Users/alexs/ML/data/concept_net/tweets.csv'\n",
    "raw_tweet_data = pre_process_input_data(TWEET_FILEPATH,num_samples=150000) #Grab 250,000 of each class (positive and negative sentiment)\n",
    "raw_tweet_data.head()"
   ]
  },
  {
   "cell_type": "code",
   "execution_count": 3,
   "metadata": {},
   "outputs": [
    {
     "data": {
      "text/html": [
       "<div>\n",
       "<style scoped>\n",
       "    .dataframe tbody tr th:only-of-type {\n",
       "        vertical-align: middle;\n",
       "    }\n",
       "\n",
       "    .dataframe tbody tr th {\n",
       "        vertical-align: top;\n",
       "    }\n",
       "\n",
       "    .dataframe thead th {\n",
       "        text-align: right;\n",
       "    }\n",
       "</style>\n",
       "<table border=\"1\" class=\"dataframe\">\n",
       "  <thead>\n",
       "    <tr style=\"text-align: right;\">\n",
       "      <th></th>\n",
       "      <th>text</th>\n",
       "    </tr>\n",
       "    <tr>\n",
       "      <th>target</th>\n",
       "      <th></th>\n",
       "    </tr>\n",
       "  </thead>\n",
       "  <tbody>\n",
       "    <tr>\n",
       "      <th>0</th>\n",
       "      <td>150000</td>\n",
       "    </tr>\n",
       "    <tr>\n",
       "      <th>1</th>\n",
       "      <td>150000</td>\n",
       "    </tr>\n",
       "  </tbody>\n",
       "</table>\n",
       "</div>"
      ],
      "text/plain": [
       "          text\n",
       "target        \n",
       "0       150000\n",
       "1       150000"
      ]
     },
     "execution_count": 3,
     "metadata": {},
     "output_type": "execute_result"
    }
   ],
   "source": [
    "raw_tweet_data.groupby('target').count()"
   ]
  },
  {
   "cell_type": "code",
   "execution_count": 4,
   "metadata": {},
   "outputs": [
    {
     "name": "stdout",
     "output_type": "stream",
     "text": [
      "\n",
      "    train_data shape: (240000,)\n",
      "    train_targets shape: (240000,)\n",
      "    test_data shape: (60000,)\n",
      "    test_targets shape: (60000,)\n",
      "      \n"
     ]
    }
   ],
   "source": [
    "train_data,test_data,train_targets,test_targets = train_test_split(raw_tweet_data['text'].to_numpy(),raw_tweet_data['target'].to_numpy(),test_size=0.2)\n",
    "print(f\"\"\"\n",
    "    train_data shape: {train_data.shape}\n",
    "    train_targets shape: {train_targets.shape}\n",
    "    test_data shape: {test_data.shape}\n",
    "    test_targets shape: {test_targets.shape}\n",
    "      \"\"\")"
   ]
  },
  {
   "cell_type": "code",
   "execution_count": 5,
   "metadata": {},
   "outputs": [],
   "source": [
    "# np.unique(test_targets,return_counts=True) #They are evenly split\n",
    "# np.unique(train_targets,return_counts=True)"
   ]
  },
  {
   "cell_type": "markdown",
   "metadata": {},
   "source": [
    "# Model From Scratch"
   ]
  },
  {
   "cell_type": "markdown",
   "metadata": {},
   "source": [
    "[2.0 points] Train a model from scratch to perform the classification task (this does NOT need to be a transformer). That is, do not use transfer learning for the classification task. Verify the model converges (even if the model is overfit). This does NOT need to mirror the foundational model. This model may be far less computational to train."
   ]
  },
  {
   "cell_type": "code",
   "execution_count": 6,
   "metadata": {},
   "outputs": [],
   "source": [
    "def clean_tweet(tweet):\n",
    "    # Remove any non-alphabetic characters except basic punctuation\n",
    "    tweet = re.sub(r\"[^a-zA-Z0-9.,'!? ]\", '', tweet)\n",
    "    # Remove any excess whitespace\n",
    "    tweet = re.sub(r\"\\s+\", ' ', tweet).strip()\n",
    "    return tweet\n"
   ]
  },
  {
   "cell_type": "code",
   "execution_count": 7,
   "metadata": {},
   "outputs": [],
   "source": [
    "X_train = np.array([clean_tweet(t) for t in train_data])\n",
    "X_test = np.array([clean_tweet(t) for t in test_data])\n",
    "\n",
    "y_train = train_targets.copy()\n",
    "y_test = test_targets.copy()"
   ]
  },
  {
   "cell_type": "code",
   "execution_count": 8,
   "metadata": {},
   "outputs": [
    {
     "name": "stdout",
     "output_type": "stream",
     "text": [
      "Found 198550 unique tokens. Distilled to 198550 top words.\n",
      "Shape of data tensor: (240000, 169)\n",
      "Shape of label tensor: (240000,)\n",
      "198550\n"
     ]
    }
   ],
   "source": [
    "from tensorflow import keras\n",
    "from tensorflow.keras.preprocessing.text import Tokenizer\n",
    "from tensorflow.keras.preprocessing.sequence import pad_sequences\n",
    "\n",
    "NUM_TOP_WORDS = None # use entire vocabulary!\n",
    "MAX_ART_LEN = np.max([len(tweet) for tweet in X_train]) # maximum number of words in a tweet\n",
    "\n",
    "#tokenize the text\n",
    "tokenizer = Tokenizer(num_words=NUM_TOP_WORDS)\n",
    "tokenizer.fit_on_texts(X_train)\n",
    "# save as sequences with integers replacing words\n",
    "sequences = tokenizer.texts_to_sequences(X_train)\n",
    "\n",
    "word_index = tokenizer.word_index\n",
    "NUM_TOP_WORDS = len(word_index) if NUM_TOP_WORDS==None else NUM_TOP_WORDS\n",
    "top_words = min((len(word_index),NUM_TOP_WORDS))\n",
    "print('Found %s unique tokens. Distilled to %d top words.' % (len(word_index),top_words))\n",
    "\n",
    "X = pad_sequences(sequences, maxlen=MAX_ART_LEN)\n",
    "X_train = pad_sequences(tokenizer.texts_to_sequences(X_train), maxlen=MAX_ART_LEN)\n",
    "X_test = pad_sequences(tokenizer.texts_to_sequences(X_test), maxlen=MAX_ART_LEN)\n",
    "\n",
    "\n",
    "#y_ohe = keras.utils.to_categorical(y_train, num_classes=2)\n",
    "print('Shape of data tensor:', X.shape)\n",
    "print('Shape of label tensor:', y_train.shape)\n",
    "print(np.max(X))"
   ]
  },
  {
   "cell_type": "code",
   "execution_count": 9,
   "metadata": {},
   "outputs": [
    {
     "name": "stdout",
     "output_type": "stream",
     "text": [
      "Model: \"sequential\"\n",
      "_________________________________________________________________\n",
      " Layer (type)                Output Shape              Param #   \n",
      "=================================================================\n",
      " embedding (Embedding)       (None, 169, 300)          59565300  \n",
      "                                                                 \n",
      " conv1d (Conv1D)             (None, 167, 128)          115328    \n",
      "                                                                 \n",
      " max_pooling1d (MaxPooling1D  (None, 33, 128)          0         \n",
      " )                                                               \n",
      "                                                                 \n",
      " flatten (Flatten)           (None, 4224)              0         \n",
      "                                                                 \n",
      " dropout_37 (Dropout)        (None, 4224)              0         \n",
      "                                                                 \n",
      " dense (Dense)               (None, 1)                 4225      \n",
      "                                                                 \n",
      "=================================================================\n",
      "Total params: 59,684,853\n",
      "Trainable params: 59,684,853\n",
      "Non-trainable params: 0\n",
      "_________________________________________________________________\n",
      "Epoch 1/25\n",
      "469/469 [==============================] - 28s 56ms/step - loss: 0.2497 - accuracy: 0.5146 - val_loss: 0.2491 - val_accuracy: 0.5468\n",
      "Epoch 2/25\n",
      "469/469 [==============================] - 10s 22ms/step - loss: 0.2488 - accuracy: 0.5428 - val_loss: 0.2480 - val_accuracy: 0.5718\n",
      "Epoch 3/25\n",
      "469/469 [==============================] - 8s 17ms/step - loss: 0.2474 - accuracy: 0.5650 - val_loss: 0.2463 - val_accuracy: 0.5882\n",
      "Epoch 4/25\n",
      "469/469 [==============================] - 7s 15ms/step - loss: 0.2452 - accuracy: 0.5854 - val_loss: 0.2435 - val_accuracy: 0.5999\n",
      "Epoch 5/25\n",
      "469/469 [==============================] - 6s 12ms/step - loss: 0.2418 - accuracy: 0.6039 - val_loss: 0.2394 - val_accuracy: 0.6110\n",
      "Epoch 6/25\n",
      "469/469 [==============================] - 6s 13ms/step - loss: 0.2369 - accuracy: 0.6192 - val_loss: 0.2337 - val_accuracy: 0.6315\n",
      "Epoch 7/25\n",
      "469/469 [==============================] - 6s 12ms/step - loss: 0.2306 - accuracy: 0.6369 - val_loss: 0.2270 - val_accuracy: 0.6505\n",
      "Epoch 8/25\n",
      "469/469 [==============================] - 6s 13ms/step - loss: 0.2234 - accuracy: 0.6581 - val_loss: 0.2195 - val_accuracy: 0.6679\n",
      "Epoch 9/25\n",
      "469/469 [==============================] - 6s 13ms/step - loss: 0.2153 - accuracy: 0.6793 - val_loss: 0.2115 - val_accuracy: 0.6878\n",
      "Epoch 10/25\n",
      "469/469 [==============================] - 6s 13ms/step - loss: 0.2068 - accuracy: 0.6980 - val_loss: 0.2037 - val_accuracy: 0.7044\n",
      "Epoch 11/25\n",
      "469/469 [==============================] - 6s 13ms/step - loss: 0.1990 - accuracy: 0.7132 - val_loss: 0.1969 - val_accuracy: 0.7169\n",
      "Epoch 12/25\n",
      "469/469 [==============================] - 6s 13ms/step - loss: 0.1919 - accuracy: 0.7265 - val_loss: 0.1913 - val_accuracy: 0.7247\n",
      "Epoch 13/25\n",
      "469/469 [==============================] - 6s 13ms/step - loss: 0.1859 - accuracy: 0.7355 - val_loss: 0.1869 - val_accuracy: 0.7311\n",
      "Epoch 14/25\n",
      "469/469 [==============================] - 6s 12ms/step - loss: 0.1809 - accuracy: 0.7438 - val_loss: 0.1834 - val_accuracy: 0.7345\n",
      "Epoch 15/25\n",
      "469/469 [==============================] - 6s 12ms/step - loss: 0.1766 - accuracy: 0.7497 - val_loss: 0.1807 - val_accuracy: 0.7386\n",
      "Epoch 16/25\n",
      "469/469 [==============================] - 6s 12ms/step - loss: 0.1730 - accuracy: 0.7552 - val_loss: 0.1786 - val_accuracy: 0.7408\n",
      "Epoch 17/25\n",
      "469/469 [==============================] - 6s 12ms/step - loss: 0.1698 - accuracy: 0.7601 - val_loss: 0.1769 - val_accuracy: 0.7422\n",
      "Epoch 18/25\n",
      "469/469 [==============================] - 6s 13ms/step - loss: 0.1669 - accuracy: 0.7643 - val_loss: 0.1756 - val_accuracy: 0.7431\n",
      "Epoch 19/25\n",
      "469/469 [==============================] - 6s 12ms/step - loss: 0.1643 - accuracy: 0.7694 - val_loss: 0.1745 - val_accuracy: 0.7447\n",
      "Epoch 20/25\n",
      "469/469 [==============================] - 6s 13ms/step - loss: 0.1618 - accuracy: 0.7730 - val_loss: 0.1736 - val_accuracy: 0.7457\n",
      "Epoch 21/25\n",
      "469/469 [==============================] - 6s 12ms/step - loss: 0.1593 - accuracy: 0.7771 - val_loss: 0.1729 - val_accuracy: 0.7464\n",
      "Epoch 22/25\n",
      "469/469 [==============================] - 6s 12ms/step - loss: 0.1572 - accuracy: 0.7810 - val_loss: 0.1723 - val_accuracy: 0.7469\n",
      "Epoch 23/25\n",
      "469/469 [==============================] - 6s 12ms/step - loss: 0.1550 - accuracy: 0.7852 - val_loss: 0.1718 - val_accuracy: 0.7475\n",
      "Epoch 24/25\n",
      "469/469 [==============================] - 6s 12ms/step - loss: 0.1529 - accuracy: 0.7888 - val_loss: 0.1713 - val_accuracy: 0.7483\n",
      "Epoch 25/25\n",
      "469/469 [==============================] - 6s 12ms/step - loss: 0.1507 - accuracy: 0.7926 - val_loss: 0.1710 - val_accuracy: 0.7482\n",
      "1875/1875 [==============================] - 3s 2ms/step - loss: 0.1710 - accuracy: 0.7482\n",
      "Test accuracy: 0.7481833100318909\n",
      "Embedding weights shape: (198551, 300)\n"
     ]
    }
   ],
   "source": [
    "from tensorflow.keras.models import Model\n",
    "from tensorflow.keras.layers import Conv1D, MaxPooling1D, Flatten, Dense\n",
    "from tensorflow.keras.layers import Dropout, GlobalAveragePooling1D\n",
    "from tensorflow.keras.layers import Subtract, Concatenate\n",
    "from tensorflow.keras.layers import Dense, Input, Dropout\n",
    "from tensorflow.keras.layers import Embedding\n",
    "from tensorflow.keras.models import Sequential\n",
    "\n",
    "# Parameters for embedding layer\n",
    "VOCAB_SIZE = len(word_index) + 1  # Add 1 for padding\n",
    "EMBED_SIZE = 300  # You can change this size according to your preference\n",
    "\n",
    "# Create model\n",
    "model = Sequential()\n",
    "model.add(Embedding(input_dim=VOCAB_SIZE, output_dim=EMBED_SIZE, input_length=MAX_ART_LEN))\n",
    "model.add(Conv1D(filters=128, kernel_size=3, activation='relu'))\n",
    "model.add(MaxPooling1D(pool_size=5))\n",
    "# model.add(Conv1D(filters=16, kernel_size=3, activation='relu'))\n",
    "# model.add(MaxPooling1D(pool_size=5))\n",
    "model.add(Flatten())\n",
    "model.add(Dropout(0.5))\n",
    "# model.add(Dense(32,activation='sigmoid'))\n",
    "# model.add(Dropout(0.3))\n",
    "model.add(Dense(1, activation='sigmoid'))\n",
    "\n",
    "# Compile model\n",
    "#make learning rate in adam optimizer smaller\n",
    "adam_optimizer = keras.optimizers.Adam(learning_rate=1e-5)\n",
    "\n",
    "#early stopping from val_loss\n",
    "early_stopping = keras.callbacks.EarlyStopping(monitor='val_loss', patience=2,min_delta=0.001)\n",
    "\n",
    "model.compile(optimizer= adam_optimizer, loss='mse', metrics=['accuracy'])\n",
    "\n",
    "# Print summary\n",
    "model.summary()\n",
    "\n",
    "# Train the model\n",
    "embed_hist = model.fit(X, y_train, epochs=25, batch_size=512, validation_data=(X_test, y_test), callbacks=early_stopping)\n",
    "\n",
    "# Evaluate the model\n",
    "loss, accuracy = model.evaluate(X_test, y_test)\n",
    "print('Test accuracy:', accuracy)\n",
    "\n",
    "# Once the model is trained, you can retrieve the learned embedding weights\n",
    "embedding_weights = model.layers[0].get_weights()[0]\n",
    "print(\"Embedding weights shape:\", embedding_weights.shape)"
   ]
  },
  {
   "cell_type": "code",
   "execution_count": 10,
   "metadata": {},
   "outputs": [
    {
     "data": {
      "image/png": "[encoded data removed]",
      "text/plain": [
       "<Figure size 640x480 with 1 Axes>"
      ]
     },
     "metadata": {},
     "output_type": "display_data"
    }
   ],
   "source": [
    "plot_history(embed_hist.history,'loss') #Plot embedding loss as its training"
   ]
  },
  {
   "cell_type": "markdown",
   "metadata": {},
   "source": [
    "Now this is some convergence. As we can see from the above graph, the training and validation losses are beginning to plateau and the model "
   ]
  },
  {
   "cell_type": "code",
   "execution_count": 11,
   "metadata": {},
   "outputs": [
    {
     "name": "stdout",
     "output_type": "stream",
     "text": [
      "Prediction: 0.8920257091522217 | Text: @csharpzealot hehehe you're giving me ideas \n",
      "Prediction: 0.546600341796875 | Text: Now is 3.43pm and faci haven finish his lesson...always liddat... \n",
      "Prediction: 0.08219126611948013 | Text: Seeing land of the lost cuz all the hangovers are sold out \n",
      "Prediction: 0.6064983606338501 | Text: @MrNateJackson I interjected your name into my Facebook status...I was runnin' out of room on twitter, sorry \n",
      "Prediction: 0.780858039855957 | Text: @nicknye  im not a rap fan but have met Mason before &amp; appreciate his ministry. I'll be praying for his church &amp; the restoration of Ambas\n",
      "Prediction: 0.26082977652549744 | Text: Right, I'm at work for 7 hours... Anyone wanna tweet chat? \n",
      "Prediction: 0.7909603714942932 | Text: New week...  work in progresssssssssss\n",
      "Prediction: 0.8234612345695496 | Text: Finished watching Underworld: The Rise of the Lycans \n",
      "Prediction: 0.004607122391462326 | Text: mommaTANIS is feeling horrible and she feels horrible...gah! i need to get to her \n",
      "Prediction: 0.34622228145599365 | Text: @ShellyKramer More in some areas than in my immediate area. They really don't bother me. I just have to plan for longer drive time. \n",
      "Prediction: 0.4561542868614197 | Text: has got a new Ipod  with no music...\n",
      "Prediction: 0.22897964715957642 | Text: had a shitty day at work...can tomorrow come already please? \n",
      "Prediction: 0.5775737762451172 | Text: cont~d - while other laptops continue with Local and Internet Access....  annoying.\n",
      "Prediction: 0.24872101843357086 | Text: @Rugabu DON'T SPOIL IT!! D:&lt; \n",
      "Prediction: 0.17187371850013733 | Text: @FunTimeFrankieG Matt Willis never replies to me  it feels like it did when Busted split n I thought I'd never get a chance to see him now\n"
     ]
    }
   ],
   "source": [
    "sample_preds = model(X_test[0:15])\n",
    "for pred,txt in zip(sample_preds,test_data[0:15]):\n",
    "    print(f'Prediction: {(pred[0])} | Text: {txt}')"
   ]
  },
  {
   "cell_type": "code",
   "execution_count": 12,
   "metadata": {},
   "outputs": [
    {
     "name": "stdout",
     "output_type": "stream",
     "text": [
      "1875/1875 [==============================] - 2s 960us/step\n"
     ]
    }
   ],
   "source": [
    "y_hat_from_scratch = np.round(model.predict(X_test))"
   ]
  },
  {
   "cell_type": "code",
   "execution_count": 13,
   "metadata": {},
   "outputs": [
    {
     "data": {
      "text/plain": [
       "array([[1.],\n",
       "       [1.],\n",
       "       [0.],\n",
       "       ...,\n",
       "       [0.],\n",
       "       [0.],\n",
       "       [1.]], dtype=float32)"
      ]
     },
     "execution_count": 13,
     "metadata": {},
     "output_type": "execute_result"
    }
   ],
   "source": [
    "y_hat_from_scratch"
   ]
  },
  {
   "cell_type": "markdown",
   "metadata": {},
   "source": [
    "[2.0 points] Train a model by transfer learning from your foundational model. Verify that the new model converges. You only need to train a model using the bottleneck features for this step. "
   ]
  },
  {
   "cell_type": "markdown",
   "metadata": {},
   "source": [
    "# Bottleneck Transfer Learning"
   ]
  },
  {
   "cell_type": "code",
   "execution_count": 14,
   "metadata": {},
   "outputs": [
    {
     "name": "stdout",
     "output_type": "stream",
     "text": [
      "Model: \"model\"\n",
      "_________________________________________________________________\n",
      " Layer (type)                Output Shape              Param #   \n",
      "=================================================================\n",
      " input_1 (InputLayer)        [(None, None, 768)]       0         \n",
      "                                                                 \n",
      " dense_1 (Dense)             (None, None, 128)         98432     \n",
      "                                                                 \n",
      " dropout_38 (Dropout)        (None, None, 128)         0         \n",
      "                                                                 \n",
      " dense_2 (Dense)             (None, None, 32)          4128      \n",
      "                                                                 \n",
      " dense_3 (Dense)             (None, None, 1)           33        \n",
      "                                                                 \n",
      "=================================================================\n",
      "Total params: 102,593\n",
      "Trainable params: 102,593\n",
      "Non-trainable params: 0\n",
      "_________________________________________________________________\n"
     ]
    }
   ],
   "source": [
    "mdl = generate_transfer_learn_classifier()\n",
    "mdl.summary()"
   ]
  },
  {
   "cell_type": "code",
   "execution_count": 15,
   "metadata": {},
   "outputs": [
    {
     "name": "stdout",
     "output_type": "stream",
     "text": [
      "Grabbing BERT Embeddings with padding to 369 characters\n"
     ]
    },
    {
     "data": {
      "application/vnd.jupyter.widget-view+json": {
       "model_id": "dd2b26ab5a1d4568b6891c00e0a4ca6e",
       "version_major": 2,
       "version_minor": 0
      },
      "text/plain": [
       "  0%|          | 0/480 [00:00<?, ?it/s]"
      ]
     },
     "metadata": {},
     "output_type": "display_data"
    },
    {
     "name": "stdout",
     "output_type": "stream",
     "text": [
      "Grabbing BERT Embeddings with padding to 296 characters\n"
     ]
    },
    {
     "data": {
      "application/vnd.jupyter.widget-view+json": {
       "model_id": "7214b1dd624247cfbd228b2f02d5cc2f",
       "version_major": 2,
       "version_minor": 0
      },
      "text/plain": [
       "  0%|          | 0/120 [00:00<?, ?it/s]"
      ]
     },
     "metadata": {},
     "output_type": "display_data"
    }
   ],
   "source": [
    "tf.keras.backend.clear_session()\n",
    "X_train_bottleneck = convert_tweets_to_bert_embedding(train_data,batch_size=500) \n",
    "X_test_bottleneck = convert_tweets_to_bert_embedding(test_data,batch_size=500) "
   ]
  },
  {
   "cell_type": "code",
   "execution_count": 16,
   "metadata": {},
   "outputs": [
    {
     "name": "stdout",
     "output_type": "stream",
     "text": [
      "\n",
      "      X_train shape :(240000, 768)\n",
      "      X_test shape :(60000, 768)\n",
      "      \n"
     ]
    }
   ],
   "source": [
    "print(f\"\"\"\n",
    "      X_train shape :{X_train_bottleneck.shape}\n",
    "      X_test shape :{X_test_bottleneck.shape}\n",
    "      \"\"\")"
   ]
  },
  {
   "cell_type": "code",
   "execution_count": 17,
   "metadata": {},
   "outputs": [
    {
     "name": "stdout",
     "output_type": "stream",
     "text": [
      "Epoch 1/100\n",
      "7500/7500 [==============================] - 18s 2ms/step - loss: 0.4826 - accuracy: 0.7689 - val_loss: 0.4557 - val_accuracy: 0.7865\n",
      "Epoch 2/100\n",
      "7500/7500 [==============================] - 18s 2ms/step - loss: 0.4614 - accuracy: 0.7822 - val_loss: 0.4501 - val_accuracy: 0.7892\n",
      "Epoch 3/100\n",
      "7500/7500 [==============================] - 18s 2ms/step - loss: 0.4545 - accuracy: 0.7861 - val_loss: 0.4654 - val_accuracy: 0.7833\n",
      "Epoch 4/100\n",
      "7500/7500 [==============================] - 17s 2ms/step - loss: 0.4504 - accuracy: 0.7886 - val_loss: 0.4552 - val_accuracy: 0.7919\n",
      "Epoch 5/100\n",
      "7500/7500 [==============================] - 17s 2ms/step - loss: 0.4469 - accuracy: 0.7907 - val_loss: 0.4532 - val_accuracy: 0.7935\n",
      "Epoch 6/100\n",
      "7500/7500 [==============================] - 18s 2ms/step - loss: 0.4442 - accuracy: 0.7929 - val_loss: 0.4486 - val_accuracy: 0.7972\n",
      "Epoch 7/100\n",
      "7500/7500 [==============================] - 17s 2ms/step - loss: 0.4428 - accuracy: 0.7928 - val_loss: 0.4534 - val_accuracy: 0.7969\n",
      "Epoch 8/100\n",
      "7500/7500 [==============================] - 17s 2ms/step - loss: 0.4403 - accuracy: 0.7952 - val_loss: 0.4467 - val_accuracy: 0.7976\n",
      "Epoch 9/100\n",
      "7500/7500 [==============================] - 17s 2ms/step - loss: 0.4383 - accuracy: 0.7957 - val_loss: 0.4522 - val_accuracy: 0.7988\n",
      "Epoch 10/100\n",
      "7500/7500 [==============================] - 18s 2ms/step - loss: 0.4369 - accuracy: 0.7968 - val_loss: 0.4438 - val_accuracy: 0.8011\n",
      "Epoch 11/100\n",
      "7500/7500 [==============================] - 18s 2ms/step - loss: 0.4350 - accuracy: 0.7979 - val_loss: 0.4441 - val_accuracy: 0.8022\n",
      "Epoch 12/100\n",
      "7500/7500 [==============================] - 18s 2ms/step - loss: 0.4342 - accuracy: 0.7982 - val_loss: 0.4419 - val_accuracy: 0.8006\n",
      "Epoch 13/100\n",
      "7500/7500 [==============================] - 18s 2ms/step - loss: 0.4324 - accuracy: 0.7994 - val_loss: 0.4473 - val_accuracy: 0.8016\n",
      "Epoch 14/100\n",
      "7500/7500 [==============================] - 18s 2ms/step - loss: 0.4320 - accuracy: 0.7995 - val_loss: 0.4467 - val_accuracy: 0.8027\n",
      "Epoch 15/100\n",
      "7500/7500 [==============================] - 18s 2ms/step - loss: 0.4305 - accuracy: 0.8005 - val_loss: 0.4505 - val_accuracy: 0.8040\n",
      "Epoch 16/100\n",
      "7500/7500 [==============================] - 18s 2ms/step - loss: 0.4299 - accuracy: 0.8007 - val_loss: 0.4434 - val_accuracy: 0.8000\n",
      "Epoch 17/100\n",
      "7500/7500 [==============================] - 18s 2ms/step - loss: 0.4289 - accuracy: 0.8014 - val_loss: 0.4457 - val_accuracy: 0.8035\n",
      "Epoch 18/100\n",
      "7500/7500 [==============================] - 18s 2ms/step - loss: 0.4279 - accuracy: 0.8017 - val_loss: 0.4466 - val_accuracy: 0.8041\n",
      "Epoch 19/100\n",
      "7500/7500 [==============================] - 16s 2ms/step - loss: 0.4269 - accuracy: 0.8026 - val_loss: 0.4444 - val_accuracy: 0.8040\n",
      "Epoch 20/100\n",
      "7500/7500 [==============================] - 18s 2ms/step - loss: 0.4259 - accuracy: 0.8039 - val_loss: 0.4462 - val_accuracy: 0.8053\n",
      "Epoch 21/100\n",
      "7500/7500 [==============================] - 18s 2ms/step - loss: 0.4254 - accuracy: 0.8026 - val_loss: 0.4470 - val_accuracy: 0.8022\n",
      "Epoch 22/100\n",
      "7500/7500 [==============================] - 17s 2ms/step - loss: 0.4252 - accuracy: 0.8030 - val_loss: 0.4382 - val_accuracy: 0.8050\n",
      "Epoch 23/100\n",
      "7500/7500 [==============================] - 17s 2ms/step - loss: 0.4242 - accuracy: 0.8040 - val_loss: 0.4452 - val_accuracy: 0.8036\n",
      "Epoch 24/100\n",
      "7500/7500 [==============================] - 18s 2ms/step - loss: 0.4236 - accuracy: 0.8046 - val_loss: 0.4485 - val_accuracy: 0.8052\n",
      "Epoch 25/100\n",
      "7500/7500 [==============================] - 19s 2ms/step - loss: 0.4225 - accuracy: 0.8051 - val_loss: 0.4557 - val_accuracy: 0.8052\n",
      "Epoch 26/100\n",
      "7500/7500 [==============================] - 18s 2ms/step - loss: 0.4221 - accuracy: 0.8054 - val_loss: 0.4485 - val_accuracy: 0.8015\n",
      "Epoch 27/100\n",
      "7500/7500 [==============================] - 18s 2ms/step - loss: 0.4215 - accuracy: 0.8053 - val_loss: 0.4404 - val_accuracy: 0.8045\n",
      "Epoch 28/100\n",
      "7500/7500 [==============================] - 17s 2ms/step - loss: 0.4209 - accuracy: 0.8061 - val_loss: 0.4369 - val_accuracy: 0.8043\n",
      "Epoch 29/100\n",
      "7500/7500 [==============================] - 18s 2ms/step - loss: 0.4196 - accuracy: 0.8063 - val_loss: 0.4438 - val_accuracy: 0.8049\n",
      "Epoch 30/100\n",
      "7500/7500 [==============================] - 18s 2ms/step - loss: 0.4198 - accuracy: 0.8063 - val_loss: 0.4513 - val_accuracy: 0.8048\n",
      "Epoch 31/100\n",
      "7500/7500 [==============================] - 18s 2ms/step - loss: 0.4192 - accuracy: 0.8059 - val_loss: 0.4457 - val_accuracy: 0.8055\n",
      "Epoch 32/100\n",
      "7500/7500 [==============================] - 18s 2ms/step - loss: 0.4189 - accuracy: 0.8067 - val_loss: 0.4465 - val_accuracy: 0.8062\n",
      "Epoch 33/100\n",
      "7500/7500 [==============================] - 18s 2ms/step - loss: 0.4181 - accuracy: 0.8078 - val_loss: 0.4442 - val_accuracy: 0.8055\n",
      "Epoch 34/100\n",
      "7500/7500 [==============================] - 20s 3ms/step - loss: 0.4179 - accuracy: 0.8073 - val_loss: 0.4406 - val_accuracy: 0.8053\n",
      "Epoch 35/100\n",
      "7500/7500 [==============================] - 20s 3ms/step - loss: 0.4175 - accuracy: 0.8076 - val_loss: 0.4455 - val_accuracy: 0.8026\n",
      "Epoch 36/100\n",
      "7500/7500 [==============================] - 20s 3ms/step - loss: 0.4167 - accuracy: 0.8078 - val_loss: 0.4372 - val_accuracy: 0.8045\n",
      "Epoch 37/100\n",
      "7500/7500 [==============================] - 20s 3ms/step - loss: 0.4157 - accuracy: 0.8084 - val_loss: 0.4442 - val_accuracy: 0.8026\n",
      "Epoch 38/100\n",
      "7500/7500 [==============================] - 18s 2ms/step - loss: 0.4157 - accuracy: 0.8080 - val_loss: 0.4425 - val_accuracy: 0.8049\n",
      "Epoch 39/100\n",
      "7500/7500 [==============================] - 18s 2ms/step - loss: 0.4148 - accuracy: 0.8095 - val_loss: 0.4466 - val_accuracy: 0.8039\n",
      "Epoch 40/100\n",
      "7500/7500 [==============================] - 19s 3ms/step - loss: 0.4151 - accuracy: 0.8089 - val_loss: 0.4436 - val_accuracy: 0.8076\n",
      "Epoch 41/100\n",
      "7500/7500 [==============================] - 18s 2ms/step - loss: 0.4143 - accuracy: 0.8084 - val_loss: 0.4488 - val_accuracy: 0.8044\n",
      "Epoch 42/100\n",
      "7500/7500 [==============================] - 18s 2ms/step - loss: 0.4138 - accuracy: 0.8094 - val_loss: 0.4387 - val_accuracy: 0.8048\n",
      "Epoch 43/100\n",
      "7500/7500 [==============================] - 18s 2ms/step - loss: 0.4138 - accuracy: 0.8097 - val_loss: 0.4515 - val_accuracy: 0.8062\n"
     ]
    }
   ],
   "source": [
    "hist = mdl.fit(X_train_bottleneck,train_targets,validation_data=(X_test_bottleneck,test_targets),epochs=100,callbacks=[tf.keras.callbacks.EarlyStopping(monitor='val_loss',patience=15,min_delta=0.001)]) #13 mins"
   ]
  },
  {
   "cell_type": "code",
   "execution_count": 18,
   "metadata": {},
   "outputs": [
    {
     "data": {
      "image/png": "[encoded data removed]",
      "text/plain": [
       "<Figure size 640x480 with 1 Axes>"
      ]
     },
     "metadata": {},
     "output_type": "display_data"
    }
   ],
   "source": [
    "plot_history(hist.history,'loss')"
   ]
  },
  {
   "cell_type": "code",
   "execution_count": 19,
   "metadata": {},
   "outputs": [
    {
     "name": "stdout",
     "output_type": "stream",
     "text": [
      "1875/1875 [==============================] - 2s 884us/step\n"
     ]
    }
   ],
   "source": [
    "y_hat_bottleneck = np.round(mdl.predict(X_test_bottleneck))\n"
   ]
  },
  {
   "cell_type": "markdown",
   "metadata": {},
   "source": [
    "# Fine Tune Network"
   ]
  },
  {
   "cell_type": "code",
   "execution_count": 20,
   "metadata": {},
   "outputs": [
    {
     "name": "stdout",
     "output_type": "stream",
     "text": [
      "TFBaseModelOutputWithPoolingAndCrossAttentions(last_hidden_state=<KerasTensor: shape=(None, None, 768) dtype=float32 (created by layer 'tf_bert_model')>, pooler_output=<KerasTensor: shape=(None, 768) dtype=float32 (created by layer 'tf_bert_model')>, past_key_values=None, hidden_states=None, attentions=None, cross_attentions=None)\n"
     ]
    }
   ],
   "source": [
    "from helpers import bert_model\n",
    "from helpers import bert_tokenizer\n",
    "\n",
    "def generate_base_model():\n",
    "    \n",
    "    input_ids = tf.keras.layers.Input(shape=(None,), dtype=tf.int32, name=\"input_ids\")\n",
    "    attention_mask = tf.keras.layers.Input(shape=(None,), dtype=tf.int32, name=\"attention_mask\")\n",
    "    token_type_ids = tf.keras.layers.Input(shape=(None,), dtype=tf.int32, name=\"token_type_ids\")\n",
    "    for l in bert_model.bert.encoder.layer:\n",
    "        l.trainable = False\n",
    "    bert_model.bert.embeddings.trainable = False\n",
    "    # bert_model.bert.trainable = False\n",
    "    bert_model.bert.encoder.layer[-1].trainable = True\n",
    "    # BERT model\n",
    "    bert_model.bert.pooler.trainable = False\n",
    "    outputs = bert_model(input_ids, attention_mask=attention_mask, token_type_ids=token_type_ids)\n",
    "    print(outputs)\n",
    "    # Extract the last hidden state\n",
    "    pooled_output = outputs.last_hidden_state[:,0,:]\n",
    "\n",
    "    # Define model\n",
    "    model = tf.keras.Model(inputs=[input_ids, attention_mask, token_type_ids], outputs=pooled_output)\n",
    "\n",
    "    return model\n",
    "base_model = generate_base_model()"
   ]
  },
  {
   "cell_type": "code",
   "execution_count": 21,
   "metadata": {},
   "outputs": [
    {
     "data": {
      "text/plain": [
       "<KerasTensor: shape=(None, 768) dtype=float32 (created by layer 'tf.__operators__.getitem')>"
      ]
     },
     "execution_count": 21,
     "metadata": {},
     "output_type": "execute_result"
    }
   ],
   "source": [
    "base_model.output"
   ]
  },
  {
   "cell_type": "code",
   "execution_count": 22,
   "metadata": {},
   "outputs": [],
   "source": [
    "\n",
    "fine_tune_model = tf.keras.Model(inputs=base_model.inputs,outputs=mdl(base_model.output))"
   ]
  },
  {
   "cell_type": "code",
   "execution_count": 23,
   "metadata": {},
   "outputs": [
    {
     "data": {
      "image/png": "[encoded data removed]",
      "text/plain": [
       "<IPython.core.display.Image object>"
      ]
     },
     "execution_count": 23,
     "metadata": {},
     "output_type": "execute_result"
    }
   ],
   "source": [
    "tf.keras.utils.plot_model(fine_tune_model)"
   ]
  },
  {
   "cell_type": "code",
   "execution_count": 24,
   "metadata": {},
   "outputs": [
    {
     "name": "stdout",
     "output_type": "stream",
     "text": [
      "Model: \"model_1\"\n",
      "__________________________________________________________________________________________________\n",
      " Layer (type)                   Output Shape         Param #     Connected to                     \n",
      "==================================================================================================\n",
      " input_ids (InputLayer)         [(None, None)]       0           []                               \n",
      "                                                                                                  \n",
      " attention_mask (InputLayer)    [(None, None)]       0           []                               \n",
      "                                                                                                  \n",
      " token_type_ids (InputLayer)    [(None, None)]       0           []                               \n",
      "                                                                                                  \n",
      " tf_bert_model (TFBertModel)    TFBaseModelOutputWi  109482240   ['input_ids[0][0]',              \n",
      "                                thPoolingAndCrossAt               'attention_mask[0][0]',         \n",
      "                                tentions(last_hidde               'token_type_ids[0][0]']         \n",
      "                                n_state=(None, None                                               \n",
      "                                , 768),                                                           \n",
      "                                 pooler_output=(Non                                               \n",
      "                                e, 768),                                                          \n",
      "                                 past_key_values=No                                               \n",
      "                                ne, hidden_states=N                                               \n",
      "                                one, attentions=Non                                               \n",
      "                                e, cross_attentions                                               \n",
      "                                =None)                                                            \n",
      "                                                                                                  \n",
      " tf.__operators__.getitem (Slic  (None, 768)         0           ['tf_bert_model[0][0]']          \n",
      " ingOpLambda)                                                                                     \n",
      "                                                                                                  \n",
      " model (Functional)             (None, None, 1)      102593      ['tf.__operators__.getitem[0][0]'\n",
      "                                                                 ]                                \n",
      "                                                                                                  \n",
      "==================================================================================================\n",
      "Total params: 109,584,833\n",
      "Trainable params: 7,190,465\n",
      "Non-trainable params: 102,394,368\n",
      "__________________________________________________________________________________________________\n"
     ]
    }
   ],
   "source": [
    "fine_tune_model.summary()"
   ]
  },
  {
   "cell_type": "code",
   "execution_count": 25,
   "metadata": {},
   "outputs": [],
   "source": [
    "x_train,y_train = pre_process_bert_inputs(train_data,train_targets)\n",
    "x_test,y_test = pre_process_bert_inputs(test_data,test_targets)"
   ]
  },
  {
   "cell_type": "code",
   "execution_count": 26,
   "metadata": {},
   "outputs": [],
   "source": [
    "fine_tune_model.compile(\n",
    "    optimizer= tf.keras.optimizers.Adam(learning_rate=1e-5),\n",
    "    loss = tf.keras.losses.mean_squared_error,\n",
    "    metrics=['accuracy']\n",
    ")"
   ]
  },
  {
   "cell_type": "code",
   "execution_count": 27,
   "metadata": {},
   "outputs": [
    {
     "name": "stdout",
     "output_type": "stream",
     "text": [
      "Epoch 1/5\n",
      "7500/7500 [==============================] - 766s 101ms/step - loss: 0.1420 - accuracy: 0.7959 - val_loss: 0.1298 - val_accuracy: 0.8207\n",
      "Epoch 2/5\n",
      "7500/7500 [==============================] - 763s 102ms/step - loss: 0.1329 - accuracy: 0.8110 - val_loss: 0.1267 - val_accuracy: 0.8268\n",
      "Epoch 3/5\n",
      "7500/7500 [==============================] - 764s 102ms/step - loss: 0.1287 - accuracy: 0.8178 - val_loss: 0.1247 - val_accuracy: 0.8316\n",
      "Epoch 4/5\n",
      "7500/7500 [==============================] - 764s 102ms/step - loss: 0.1258 - accuracy: 0.8221 - val_loss: 0.1243 - val_accuracy: 0.8316\n",
      "Epoch 5/5\n",
      "7500/7500 [==============================] - 764s 102ms/step - loss: 0.1236 - accuracy: 0.8254 - val_loss: 0.1222 - val_accuracy: 0.8331\n"
     ]
    }
   ],
   "source": [
    "fine_tune_hist = fine_tune_model.fit(x_train,y_train,validation_data=(x_test,y_test),epochs=5,callbacks=[tf.keras.callbacks.EarlyStopping(monitor='val_loss',patience=2,min_delta=0.001)]) # 64mins"
   ]
  },
  {
   "cell_type": "code",
   "execution_count": 28,
   "metadata": {},
   "outputs": [
    {
     "data": {
      "image/png": "[encoded data removed]",
      "text/plain": [
       "<Figure size 640x480 with 1 Axes>"
      ]
     },
     "metadata": {},
     "output_type": "display_data"
    }
   ],
   "source": [
    "plot_history(fine_tune_hist.history,'loss')"
   ]
  },
  {
   "cell_type": "code",
   "execution_count": 29,
   "metadata": {},
   "outputs": [
    {
     "name": "stdout",
     "output_type": "stream",
     "text": [
      "1875/1875 [==============================] - 99s 52ms/step\n"
     ]
    }
   ],
   "source": [
    "y_hat_fine_tune = np.round(fine_tune_model.predict(x_test))"
   ]
  },
  {
   "cell_type": "code",
   "execution_count": 40,
   "metadata": {},
   "outputs": [
    {
     "name": "stdout",
     "output_type": "stream",
     "text": [
      "From Scratch(CNN) Vs. Bottleneck (Bert): stat=875.0921309343161, p-value=2.550213185774605e-192\n",
      "From Scratch(CNN) Vs. FineTune (Bert): stat=2046.2767920511, p-value=0.0\n",
      "Bottleneck (Bert) Vs. FineTune (Bert): stat=450.13304498269895, p-value=6.747786316450042e-100\n"
     ]
    }
   ],
   "source": [
    "from statsmodels.stats.contingency_tables import mcnemar\n",
    "\n",
    "from_scratch_preds = y_hat_from_scratch.flatten() == test_targets.flatten()\n",
    "bottleneck_preds =  y_hat_bottleneck.flatten() == test_targets.flatten()\n",
    "finetune_preds =  y_hat_fine_tune.flatten() == test_targets.flatten()\n",
    "# transformer_preds =  y_hat_transfromer_from_scratch.flatten() == test_targets.flatten()\n",
    "# correct_pred3 = np.argmax(yhat_t3, axis=1) == np.argmax(y_test, axis=1)\n",
    "\n",
    "\n",
    "def calculate_mcnemar(correct1, correct2):\n",
    "    # Count the number of times each model was correct/incorrect\n",
    "    n00 = n01 = n10 = n11 = 0\n",
    "    for i in range(len(correct1)):\n",
    "        if correct1[i] and correct2[i]:\n",
    "            n11 += 1\n",
    "        elif correct1[i] and not correct2[i]:\n",
    "            n10 += 1\n",
    "        elif not correct1[i] and correct2[i]:\n",
    "            n01 += 1\n",
    "        elif not correct1[i] and not correct2[i]:\n",
    "            n00 += 1\n",
    "    \n",
    "    # Construct the contingency table\n",
    "    table = [[n11, n10],\n",
    "             [n01, n00]]\n",
    "    \n",
    "    # Perform McNemar's test\n",
    "    result = mcnemar(table, exact=False, correction=True)  # Use correction for small sample sizes\n",
    "    return result\n",
    "\n",
    "# Calculate McNemar's test\n",
    "# result1_2 = calculate_mcnemar(correct_pred1, correct_pred2)\n",
    "# result1_3 = calculate_mcnemar(correct_pred1, correct_pred3)\n",
    "# result2_3 = calculate_mcnemar(correct_pred2, correct_pred3)\n",
    "res_scratch_bottleneck = calculate_mcnemar(from_scratch_preds,bottleneck_preds)\n",
    "res_scratch_finetune = calculate_mcnemar(from_scratch_preds,finetune_preds)\n",
    "res_finetune_bottleneck = calculate_mcnemar(finetune_preds,bottleneck_preds)\n",
    "\n",
    "\n",
    "print(f'From Scratch(CNN) Vs. Bottleneck (Bert): stat={res_scratch_bottleneck.statistic}, p-value={res_scratch_bottleneck.pvalue}')\n",
    "print(f'From Scratch(CNN) Vs. FineTune (Bert): stat={res_scratch_finetune.statistic}, p-value={res_scratch_finetune.pvalue}')\n",
    "print(f'Bottleneck (Bert) Vs. FineTune (Bert): stat={res_finetune_bottleneck.statistic}, p-value={res_finetune_bottleneck.pvalue}')\n"
   ]
  },
  {
   "cell_type": "markdown",
   "metadata": {},
   "source": [
    "# Additional Information"
   ]
  },
  {
   "cell_type": "markdown",
   "metadata": {},
   "source": [
    "## Transformer from Scratch"
   ]
  },
  {
   "cell_type": "code",
   "execution_count": 30,
   "metadata": {},
   "outputs": [
    {
     "name": "stdout",
     "output_type": "stream",
     "text": [
      "Found 198551 word vectors.\n",
      "Embedding Shape: (198551, 300) \n",
      " Total words found: 198550 \n",
      " Percentage: 99.99949635106346\n"
     ]
    }
   ],
   "source": [
    "EMBED_SIZE = 300\n",
    "print('Found %s word vectors.' % len(embedding_weights))\n",
    "\n",
    "# Now fill in the matrix using the ordering from the keras word tokenizer\n",
    "found_words = 0\n",
    "embedding_matrix = np.zeros((len(word_index) + 1, EMBED_SIZE))\n",
    "for word, i in word_index.items():\n",
    "    embedding_vector = embedding_weights[i]  # Use the learned embeddings\n",
    "    if embedding_vector is not None:\n",
    "        embedding_matrix[i] = embedding_vector\n",
    "        found_words += 1\n",
    "\n",
    "print(\"Embedding Shape:\", embedding_matrix.shape, \"\\n\",\n",
    "      \"Total words found:\", found_words, \"\\n\",\n",
    "      \"Percentage:\", 100 * found_words / embedding_matrix.shape[0])"
   ]
  },
  {
   "cell_type": "code",
   "execution_count": 31,
   "metadata": {},
   "outputs": [],
   "source": [
    "class TransformerBlock(Layer): # inherit from Keras Layer\n",
    "    def __init__(self, embed_dim, num_heads, ff_dim, rate=0.2):\n",
    "        super().__init__()\n",
    "        # setup the model heads and feedforward network\n",
    "        self.att = MultiHeadAttention(num_heads=num_heads,\n",
    "                                      key_dim=embed_dim)\n",
    "\n",
    "        # make a two layer network that processes the attention\n",
    "        self.ffn = Sequential()\n",
    "        self.ffn.add( Dense(ff_dim, activation='relu') )\n",
    "        self.ffn.add( Dense(embed_dim) )\n",
    "\n",
    "        self.layernorm1 = LayerNormalization(epsilon=1e-6)\n",
    "        self.layernorm2 = LayerNormalization(epsilon=1e-6)\n",
    "        self.dropout1 = Dropout(rate)\n",
    "        self.dropout2 = Dropout(rate)\n",
    "\n",
    "    def call(self, inputs, training):\n",
    "        # apply the layers as needed (similar to PyTorch)\n",
    "\n",
    "        # get the attention output from multi heads\n",
    "        # Using same inpout here is self-attention\n",
    "        # call inputs are (query, value, key)\n",
    "        # if only two inputs given, value and key are assumed the same\n",
    "        attn_output = self.att(inputs, inputs)\n",
    "\n",
    "        # create residual output, with attention\n",
    "        out1 = self.layernorm1(inputs + attn_output)\n",
    "\n",
    "        # apply dropout if training\n",
    "        out1 = self.dropout1(out1, training=training)\n",
    "\n",
    "        # place through feed forward after layer norm\n",
    "        ffn_output = self.ffn(out1)\n",
    "        out2 = self.layernorm2(out1 + ffn_output)\n",
    "\n",
    "        # apply dropout if training\n",
    "        out2 = self.dropout2(out2, training=training)\n",
    "        #return the residual from Dense layer\n",
    "        return out2\n",
    "\n",
    "class TokenAndPositionEmbedding(Layer):\n",
    "    def __init__(self, maxlen, vocab_size, embed_dim):\n",
    "        super().__init__()\n",
    "        # create two embeddings\n",
    "        # one for processing the tokens (words)\n",
    "        self.token_emb = Embedding(input_dim=vocab_size,\n",
    "                                   output_dim=embed_dim)\n",
    "        # another embedding for processing the position\n",
    "        self.pos_emb = Embedding(input_dim=maxlen,\n",
    "                                 output_dim=embed_dim)\n",
    "\n",
    "    def call(self, x):\n",
    "        # create a static position measure (input)\n",
    "        maxlen = tf.shape(x)[-1]\n",
    "        positions = tf.range(start=0, limit=maxlen, delta=1)\n",
    "        # positions now goes from 0 to 500 (for IMdB) by 1\n",
    "        positions = self.pos_emb(positions)# embed these positions\n",
    "        x = self.token_emb(x) # embed the tokens\n",
    "        return x + positions # add embeddngs to get final embedding\n",
    "\n",
    "class CustomTokenAndPositionEmbedding(Layer):\n",
    "    def __init__(self, maxlen, vocab_size, embed_dim):\n",
    "        super().__init__()\n",
    "        # create two embeddings\n",
    "        # one for processing the tokens (words)\n",
    "        self.token_emb = Embedding(len(word_index)+1,\n",
    "                                   EMBED_SIZE,\n",
    "                                   weights=[embedding_matrix],\n",
    "                                   input_length=MAX_ART_LEN)\n",
    "        self.token_emb.trainable=False\n",
    "        \n",
    "        # another embedding for processing the position\n",
    "        self.pos_emb = Embedding(MAX_ART_LEN,\n",
    "                                 EMBED_SIZE,\n",
    "                                 input_length=MAX_ART_LEN,\n",
    "                                )\n",
    "\n",
    "    def call(self, x):\n",
    "        # create a static position measure (input)\n",
    "        maxlen = tf.shape(x)[-1]\n",
    "        positions = tf.range(start=0, limit=maxlen, delta=1)\n",
    "        # positions now goes from 0 to 500 (for IMdB) by 1\n",
    "        positions = self.pos_emb(positions)# embed these positions\n",
    "        x = self.token_emb(x) # embed the tokens\n",
    "        return x + positions # add embeddngs to get final embedding"
   ]
  },
  {
   "cell_type": "code",
   "execution_count": 53,
   "metadata": {},
   "outputs": [
    {
     "name": "stdout",
     "output_type": "stream",
     "text": [
      "Model: \"model_5\"\n",
      "_________________________________________________________________\n",
      " Layer (type)                Output Shape              Param #   \n",
      "=================================================================\n",
      " input_2 (InputLayer)        [(None, 169)]             0         \n",
      "                                                                 \n",
      " custom_token_and_position_e  (None, 169, 300)         59616000  \n",
      " mbedding_1 (CustomTokenAndP                                     \n",
      " ositionEmbedding)                                               \n",
      "                                                                 \n",
      " transformer_block_1 (Transf  (None, 169, 300)         2186432   \n",
      " ormerBlock)                                                     \n",
      "                                                                 \n",
      " global_average_pooling1d_1   (None, 300)              0         \n",
      " (GlobalAveragePooling1D)                                        \n",
      "                                                                 \n",
      " dropout_6 (Dropout)         (None, 300)               0         \n",
      "                                                                 \n",
      " dense_6 (Dense)             (None, 128)               38528     \n",
      "                                                                 \n",
      " dropout_7 (Dropout)         (None, 128)               0         \n",
      "                                                                 \n",
      " dense_7 (Dense)             (None, 1)                 129       \n",
      "                                                                 \n",
      "=================================================================\n",
      "Total params: 61,841,089\n",
      "Trainable params: 2,275,789\n",
      "Non-trainable params: 59,565,300\n",
      "_________________________________________________________________\n",
      "None\n",
      "Epoch 1/7\n",
      "469/469 [==============================] - 51s 105ms/step - loss: 0.1868 - accuracy: 0.7304 - val_loss: 0.1521 - val_accuracy: 0.7871\n",
      "Epoch 2/7\n",
      "469/469 [==============================] - 49s 105ms/step - loss: 0.1353 - accuracy: 0.8153 - val_loss: 0.1533 - val_accuracy: 0.7874\n",
      "Epoch 3/7\n",
      "469/469 [==============================] - 50s 107ms/step - loss: 0.1332 - accuracy: 0.8174 - val_loss: 0.1536 - val_accuracy: 0.7879\n",
      "Epoch 4/7\n",
      "469/469 [==============================] - 50s 106ms/step - loss: 0.1325 - accuracy: 0.8187 - val_loss: 0.1536 - val_accuracy: 0.7885\n",
      "Epoch 5/7\n",
      "469/469 [==============================] - 49s 105ms/step - loss: 0.1319 - accuracy: 0.8197 - val_loss: 0.1535 - val_accuracy: 0.7876\n",
      "Epoch 6/7\n",
      "469/469 [==============================] - 50s 106ms/step - loss: 0.1315 - accuracy: 0.8200 - val_loss: 0.1554 - val_accuracy: 0.7855\n",
      "Epoch 7/7\n",
      "469/469 [==============================] - 49s 105ms/step - loss: 0.1312 - accuracy: 0.8203 - val_loss: 0.1536 - val_accuracy: 0.7872\n"
     ]
    }
   ],
   "source": [
    "embed_dim = 300  # Embedding size for each token\n",
    "num_heads = 6  # Number of attention heads\n",
    "ff_dim = 32  # Hidden layer size in feed forward network inside transformer\n",
    "top_words = 100\n",
    "NUM_CLASSES =  1\n",
    "\n",
    "adam_optimizer = tf.optimizers.Adam(learning_rate=1e-5)\n",
    "inputs = Input(shape=(X_train.shape[1],))\n",
    "x = CustomTokenAndPositionEmbedding(X_train.shape[1], top_words, embed_dim)(inputs)\n",
    "x = TransformerBlock(embed_dim, num_heads, ff_dim)(x)\n",
    "\n",
    "x = GlobalAveragePooling1D()(x)\n",
    "x = Dropout(0.2)(x)\n",
    "x = Dense(128, activation='relu')(x)\n",
    "x = Dropout(0.2)(x)\n",
    "outputs = Dense(NUM_CLASSES, activation='sigmoid',\n",
    "              kernel_initializer='glorot_uniform')(x)\n",
    "xformer = Model(inputs=inputs, outputs=outputs)\n",
    "model_xformer = Model(inputs=inputs, outputs=outputs)\n",
    "print(model_xformer.summary())\n",
    "xformer.compile(optimizer=adam_optimizer,\n",
    "                      loss='mse',\n",
    "                      metrics=['accuracy'])\n",
    "history = xformer.fit(\n",
    "    X_train, y_train, batch_size=512, epochs=7,\n",
    "    validation_data=(X_test, y_test)\n",
    ")"
   ]
  },
  {
   "cell_type": "code",
   "execution_count": 54,
   "metadata": {},
   "outputs": [
    {
     "data": {
      "image/png": "[encoded data removed]",
      "text/plain": [
       "<Figure size 640x480 with 1 Axes>"
      ]
     },
     "metadata": {},
     "output_type": "display_data"
    }
   ],
   "source": [
    "plot_history(history.history,'loss')"
   ]
  },
  {
   "cell_type": "code",
   "execution_count": 34,
   "metadata": {},
   "outputs": [
    {
     "name": "stdout",
     "output_type": "stream",
     "text": [
      "1875/1875 [==============================] - 5s 2ms/step\n"
     ]
    }
   ],
   "source": [
    "y_hat_transfromer_from_scratch = np.round(xformer.predict(X_test))"
   ]
  },
  {
   "cell_type": "code",
   "execution_count": 35,
   "metadata": {},
   "outputs": [],
   "source": [
    "# y_hat_transfromer_from_scratch.shape"
   ]
  },
  {
   "cell_type": "code",
   "execution_count": 36,
   "metadata": {},
   "outputs": [
    {
     "data": {
      "text/plain": [
       "<tf.Tensor: shape=(60000,), dtype=int64, numpy=array([1, 0, 0, ..., 0, 0, 1])>"
      ]
     },
     "execution_count": 36,
     "metadata": {},
     "output_type": "execute_result"
    }
   ],
   "source": [
    "y_test"
   ]
  },
  {
   "cell_type": "markdown",
   "metadata": {},
   "source": [
    "## helpers.py"
   ]
  },
  {
   "cell_type": "code",
   "execution_count": null,
   "metadata": {},
   "outputs": [],
   "source": [
    "\"\"\"\n",
    "import pandas as pd\n",
    "import numpy as np\n",
    "import tensorflow as tf\n",
    "import matplotlib.pyplot as plt\n",
    "import seaborn\n",
    "from datetime import datetime\n",
    "from tqdm.auto import tqdm\n",
    "from transformers import BertTokenizer, TFBertModel\n",
    "\n",
    "bert_tokenizer = BertTokenizer.from_pretrained('bert-base-uncased')\n",
    "bert_model = TFBertModel.from_pretrained(\"bert-base-uncased\")\n",
    "\n",
    "def pre_process_input_data(filepath='./data/concept_net/tweets.csv',encoding='cp1252',num_samples=None,random_state=None): #Change encoding if not on windows\n",
    "    tweets = pd.read_csv(filepath,encoding=encoding,header=None)\n",
    "    tweets.columns = ['target','id','date','flag','username','text'] #Change column names to things that make sense\n",
    "    tweets = tweets.drop(columns=['id','date','flag','username']) #Remove unneeded columns from memory\n",
    "\n",
    "    tweets = tweets.replace({'target':{0:0,4:1}}) #Dataset has only 0=negative sent, 4=positive sent, remappping to 0,1 respectivly\n",
    "    if num_samples:\n",
    "        tweets = tweets.groupby('target').sample(num_samples,random_state=random_state)\n",
    "\n",
    "    return tweets\n",
    "\n",
    "def convert_tweets_to_bert_embedding(text_arr:np.ndarray,batch_size=500):\n",
    "        batches = [(i,min(i+batch_size,len(text_arr))) for i in range(0,len(text_arr),batch_size)] #Split into smaller chunks\n",
    "\n",
    "        # _df = pd.DataFrame()\n",
    "        max_twt_len = np.max([len(v) for v in text_arr])\n",
    "\n",
    "        res = []\n",
    "        print(f'Grabbing BERT Embeddings with padding to {max_twt_len} characters')\n",
    "        for lower,upper in tqdm(batches):\n",
    "            chunk = text_arr[lower:upper]\n",
    "            features = bert_tokenizer(chunk.tolist(),padding='max_length', truncation=True, return_tensors='tf',max_length=max_twt_len)\n",
    "            features = bert_model(**features).last_hidden_state[:,0,:]\n",
    "            # chunk['features'] = features.numpy().tolist()\n",
    "            res.append(features.numpy())\n",
    "        return np.array(res).reshape(-1,768) # Reshape to output numrows by embedding space\n",
    "\n",
    "def generate_transfer_learn_classifier():\n",
    "    inputs = tf.keras.layers.Input(shape=(None,768))\n",
    "\n",
    "    x = tf.keras.layers.Dense(128,activation = 'relu')(inputs)\n",
    "    x = tf.keras.layers.Dropout(0.5)(x)\n",
    "    x = tf.keras.layers.Dense(32,activation='relu')(x)\n",
    "    x = tf.keras.layers.Dense(1,activation='sigmoid')(x)\n",
    "    model = tf.keras.Model(inputs=[inputs],outputs=x)\n",
    "    model.compile(optimizer='adam',loss=tf.keras.losses.BinaryCrossentropy(),metrics=['accuracy'])\n",
    "\n",
    "    return model\n",
    "\n",
    "def plot_history(hist,metric,show_val=True):\n",
    "    plt.plot(hist[f'{metric}'])\n",
    "    if show_val:\n",
    "        plt.plot(hist[f'val_{metric}'])\n",
    "        plt.legend([f'Training {metric}',f'Validation {metric}'])  \n",
    "    plt.show()\n",
    "\n",
    "def generate_fine_tune_model():\n",
    "    \n",
    "    input_ids = tf.keras.layers.Input(shape=(None,), dtype=tf.int32, name=\"input_ids\")\n",
    "    attention_mask = tf.keras.layers.Input(shape=(None,), dtype=tf.int32, name=\"attention_mask\")\n",
    "    token_type_ids = tf.keras.layers.Input(shape=(None,), dtype=tf.int32, name=\"token_type_ids\")\n",
    "    for l in bert_model.bert.encoder.layer:\n",
    "        l.trainable = False\n",
    "    bert_model.bert.embeddings.trainable = False\n",
    "    # bert_model.bert.trainable = False\n",
    "    bert_model.bert.encoder.layer[-1].trainable = True\n",
    "    # BERT model\n",
    "    bert_model.bert.pooler.trainable = False\n",
    "    outputs = bert_model(input_ids, attention_mask=attention_mask, token_type_ids=token_type_ids)\n",
    "\n",
    "    # Extract the pooled output (CLS token) from BERT\n",
    "    pooled_output = outputs.pooler_output\n",
    "\n",
    "    # Add your custom top layer\n",
    "    dense_layer = tf.keras.layers.Dense(128, activation='relu')(pooled_output)\n",
    "    dropout_layer = tf.keras.layers.Dropout(0.5)(dense_layer)\n",
    "    dropout_layer = tf.keras.layers.Dense(32,activation='relu')(dropout_layer)\n",
    "    output_layer = tf.keras.layers.Dense(1, activation='sigmoid', name='output')(dropout_layer)\n",
    "\n",
    "    # Define model\n",
    "    model = tf.keras.Model(inputs=[input_ids, attention_mask, token_type_ids], outputs=output_layer)\n",
    "\n",
    "    # Compile the model\n",
    "    model.compile(optimizer=tf.keras.optimizers.Adam(learning_rate=1e-5),\n",
    "                loss=tf.losses.binary_crossentropy,\n",
    "                metrics=['accuracy'])\n",
    "    return model\n",
    "def pre_process_bert_inputs(x:np.ndarray,y:np.ndarray):\n",
    "    sentences = x\n",
    "    sentiment_values = y  # Example sentiment values: 1 for positive, 0 for negative\n",
    "\n",
    "    # Tokenize input sentences\n",
    "    tokenized_inputs = bert_tokenizer(sentences.tolist(), padding=True, truncation=True, return_tensors=\"tf\")\n",
    "\n",
    "    # Convert sentiment values to TensorFlow tensors\n",
    "    sentiment_values = tf.convert_to_tensor(sentiment_values)\n",
    "\n",
    "    # Prepare input data as a dictionary\n",
    "    input_data = {\n",
    "        \"input_ids\": tokenized_inputs[\"input_ids\"],\n",
    "        \"attention_mask\": tokenized_inputs[\"attention_mask\"],\n",
    "        \"token_type_ids\": tokenized_inputs[\"token_type_ids\"]\n",
    "    }\n",
    "    return input_data,sentiment_values\n",
    "\n",
    "if __name__ == \"__main__\":\n",
    "    mdl = generate_fine_tune_model()\n",
    "    print(mdl.summary())\n",
    "\n",
    "\n",
    "\"\"\""
   ]
  }
 ],
 "metadata": {
  "kernelspec": {
   "display_name": "transformers",
   "language": "python",
   "name": "python3"
  },
  "language_info": {
   "codemirror_mode": {
    "name": "ipython",
    "version": 3
   },
   "file_extension": ".py",
   "mimetype": "text/x-python",
   "name": "python",
   "nbconvert_exporter": "python",
   "pygments_lexer": "ipython3",
   "version": "3.9.17"
  }
 },
 "nbformat": 4,
 "nbformat_minor": 2
}
